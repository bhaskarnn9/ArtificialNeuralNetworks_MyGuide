{
 "cells": [
  {
   "cell_type": "markdown",
   "metadata": {},
   "source": [
    "In this notebook, we will use Callbacks during training to save a model in .h5 extension so we can load and use at a later time.\n",
    "Using callbacks is very handy when you have large dataset that takes hours to train the model and you have to save each model after an epoch. \n",
    "\n",
    "This is also helpful in cases of unexpected interruption, so we wont lose th eentire progress of training."
   ]
  },
  {
   "cell_type": "markdown",
   "metadata": {},
   "source": [
    "# Using callbacks during Training"
   ]
  },
  {
   "cell_type": "markdown",
   "metadata": {},
   "source": [
    "### Data Preparation"
   ]
  },
  {
   "cell_type": "code",
   "execution_count": 1,
   "metadata": {},
   "outputs": [
    {
     "name": "stdout",
     "output_type": "stream",
     "text": [
      "['MedInc', 'HouseAge', 'AveRooms', 'AveBedrms', 'Population', 'AveOccup', 'Latitude', 'Longitude']\n"
     ]
    }
   ],
   "source": [
    "import warnings\n",
    "warnings.filterwarnings('ignore', category=FutureWarning)\n",
    "import pandas as pd\n",
    "import numpy as np\n",
    "import matplotlib.pyplot as plt\n",
    "import tensorflow as tf\n",
    "# %matplotlib inline\n",
    "\n",
    "from sklearn.datasets import fetch_california_housing\n",
    "housing = fetch_california_housing()\n",
    "\n",
    "print(housing.feature_names)\n",
    "\n",
    "from sklearn.model_selection import train_test_split\n",
    "X_train_full, X_test, y_train_full, y_test = train_test_split(housing.data, housing.target, test_size = 0.2, random_state = 42)\n",
    "X_train, X_valid, y_train, y_valid = train_test_split(X_train_full, y_train_full, test_size = 0.3, random_state=42)\n",
    "\n",
    "\n",
    "from sklearn.preprocessing import StandardScaler\n",
    "scaler = StandardScaler()\n",
    "X_train = scaler.fit_transform(X_train)\n",
    "X_valid = scaler.transform(X_valid)\n",
    "X_test = scaler.transform(X_test)\n",
    "\n",
    "np.random.seed(42)\n",
    "tf.random.set_seed(42)"
   ]
  },
  {
   "cell_type": "markdown",
   "metadata": {},
   "source": [
    "### Create a model"
   ]
  },
  {
   "cell_type": "code",
   "execution_count": 2,
   "metadata": {},
   "outputs": [
    {
     "name": "stdout",
     "output_type": "stream",
     "text": [
      "Model: \"functional_1\"\n",
      "__________________________________________________________________________________________________\n",
      "Layer (type)                    Output Shape         Param #     Connected to                     \n",
      "==================================================================================================\n",
      "input_1 (InputLayer)            [(None, 8)]          0                                            \n",
      "__________________________________________________________________________________________________\n",
      "dense (Dense)                   (None, 30)           270         input_1[0][0]                    \n",
      "__________________________________________________________________________________________________\n",
      "dense_1 (Dense)                 (None, 30)           930         dense[0][0]                      \n",
      "__________________________________________________________________________________________________\n",
      "concatenate (Concatenate)       (None, 38)           0           input_1[0][0]                    \n",
      "                                                                 dense_1[0][0]                    \n",
      "__________________________________________________________________________________________________\n",
      "dense_2 (Dense)                 (None, 1)            39          concatenate[0][0]                \n",
      "==================================================================================================\n",
      "Total params: 1,239\n",
      "Trainable params: 1,239\n",
      "Non-trainable params: 0\n",
      "__________________________________________________________________________________________________\n"
     ]
    }
   ],
   "source": [
    "tf.keras.backend.clear_session()\n",
    "\n",
    "input_ = tf.keras.layers.Input(shape=X_train.shape[1:])\n",
    "hidden1 = tf.keras.layers.Dense(30, activation='relu')(input_)\n",
    "hidden2 = tf.keras.layers.Dense(30, activation='relu')(hidden1)\n",
    "concat = tf.keras.layers.concatenate([input_, hidden2])\n",
    "output = tf.keras.layers.Dense(1)(concat)\n",
    "model_functional = tf.keras.models.Model(inputs=[input_], outputs=[output])\n",
    "\n",
    "model_functional.summary()"
   ]
  },
  {
   "cell_type": "code",
   "execution_count": 3,
   "metadata": {},
   "outputs": [],
   "source": [
    "model_functional.compile(loss='mse',\n",
    "                         optimizer=tf.keras.optimizers.SGD(lr=1e-3),\n",
    "                        metrics=['mae'])"
   ]
  },
  {
   "cell_type": "code",
   "execution_count": 4,
   "metadata": {},
   "outputs": [],
   "source": [
    "checkpoint_cb = tf.keras.callbacks.ModelCheckpoint('Model_Func_{epoch:02d}.h5')"
   ]
  },
  {
   "cell_type": "code",
   "execution_count": 5,
   "metadata": {},
   "outputs": [
    {
     "name": "stdout",
     "output_type": "stream",
     "text": [
      "Epoch 1/10\n",
      "362/362 [==============================] - 0s 901us/step - loss: 1.2605 - mae: 0.7982 - val_loss: 0.7210 - val_mae: 0.6104\n",
      "Epoch 2/10\n",
      "362/362 [==============================] - 0s 633us/step - loss: 0.6456 - mae: 0.5819 - val_loss: 0.6469 - val_mae: 0.5727\n",
      "Epoch 3/10\n",
      "362/362 [==============================] - 0s 617us/step - loss: 0.6041 - mae: 0.5605 - val_loss: 0.6127 - val_mae: 0.5564\n",
      "Epoch 4/10\n",
      "362/362 [==============================] - 0s 625us/step - loss: 0.5759 - mae: 0.5465 - val_loss: 0.5814 - val_mae: 0.5418\n",
      "Epoch 5/10\n",
      "362/362 [==============================] - 0s 634us/step - loss: 0.5538 - mae: 0.5349 - val_loss: 0.5646 - val_mae: 0.5332\n",
      "Epoch 6/10\n",
      "362/362 [==============================] - 0s 625us/step - loss: 0.5369 - mae: 0.5259 - val_loss: 0.5500 - val_mae: 0.5272\n",
      "Epoch 7/10\n",
      "362/362 [==============================] - 0s 627us/step - loss: 0.5206 - mae: 0.5189 - val_loss: 0.5288 - val_mae: 0.5141\n",
      "Epoch 8/10\n",
      "362/362 [==============================] - 0s 628us/step - loss: 0.5084 - mae: 0.5113 - val_loss: 0.5165 - val_mae: 0.5083\n",
      "Epoch 9/10\n",
      "362/362 [==============================] - 0s 605us/step - loss: 0.4976 - mae: 0.5060 - val_loss: 0.5107 - val_mae: 0.5067\n",
      "Epoch 10/10\n",
      "362/362 [==============================] - 0s 623us/step - loss: 0.4873 - mae: 0.5003 - val_loss: 0.4939 - val_mae: 0.5002\n"
     ]
    }
   ],
   "source": [
    "model_history = model_functional.fit(X_train, y_train, epochs=10,\n",
    "                                     validation_data=(X_valid, y_valid),\n",
    "                                    callbacks=[checkpoint_cb])"
   ]
  },
  {
   "cell_type": "code",
   "execution_count": 6,
   "metadata": {},
   "outputs": [],
   "source": [
    "del model_functional\n",
    "tf.keras.backend.clear_session()"
   ]
  },
  {
   "cell_type": "code",
   "execution_count": 8,
   "metadata": {},
   "outputs": [
    {
     "name": "stdout",
     "output_type": "stream",
     "text": [
      "129/129 [==============================] - 0s 374us/step - loss: 0.5152 - mean_absolute_error: 0.5055\n"
     ]
    }
   ],
   "source": [
    "model = tf.keras.models.load_model('Model_Func_10.h5')\n",
    "mse_test = model.evaluate(X_test, y_test)"
   ]
  },
  {
   "cell_type": "markdown",
   "metadata": {},
   "source": [
    "# Create callback for only best model"
   ]
  },
  {
   "cell_type": "code",
   "execution_count": 10,
   "metadata": {},
   "outputs": [],
   "source": [
    "tf.keras.backend.clear_session()\n",
    "\n",
    "input_ = tf.keras.layers.Input(shape=X_train.shape[1:])\n",
    "hidden1 = tf.keras.layers.Dense(30, activation='relu')(input_)\n",
    "hidden2 = tf.keras.layers.Dense(30, activation='relu')(hidden1)\n",
    "concat = tf.keras.layers.concatenate([input_, hidden2])\n",
    "output = tf.keras.layers.Dense(1)(concat)\n",
    "model_functional = tf.keras.models.Model(inputs=[input_], outputs=[output])\n",
    "\n",
    "model_functional.compile(loss='mse',\n",
    "                         optimizer=tf.keras.optimizers.SGD(lr=1e-3),\n",
    "                        metrics=['mae'])\n",
    "\n",
    "checkpoint_cb = tf.keras.callbacks.ModelCheckpoint('Model_Func_Best.h5', save_best_only=True)"
   ]
  },
  {
   "cell_type": "code",
   "execution_count": 11,
   "metadata": {},
   "outputs": [
    {
     "name": "stdout",
     "output_type": "stream",
     "text": [
      "Epoch 1/10\n",
      "362/362 [==============================] - 0s 806us/step - loss: 1.4786 - mae: 0.8893 - val_loss: 0.8711 - val_mae: 0.6874\n",
      "Epoch 2/10\n",
      "362/362 [==============================] - 0s 638us/step - loss: 0.8012 - mae: 0.6551 - val_loss: 0.7782 - val_mae: 0.6446\n",
      "Epoch 3/10\n",
      "362/362 [==============================] - 0s 630us/step - loss: 0.7335 - mae: 0.6235 - val_loss: 0.7165 - val_mae: 0.6159\n",
      "Epoch 4/10\n",
      "362/362 [==============================] - 0s 624us/step - loss: 0.6862 - mae: 0.6008 - val_loss: 0.6784 - val_mae: 0.5945\n",
      "Epoch 5/10\n",
      "362/362 [==============================] - 0s 630us/step - loss: 0.6502 - mae: 0.5828 - val_loss: 0.6638 - val_mae: 0.5799\n",
      "Epoch 6/10\n",
      "362/362 [==============================] - 0s 626us/step - loss: 0.6241 - mae: 0.5702 - val_loss: 0.6172 - val_mae: 0.5678\n",
      "Epoch 7/10\n",
      "362/362 [==============================] - 0s 625us/step - loss: 0.5938 - mae: 0.5582 - val_loss: 0.5908 - val_mae: 0.5493\n",
      "Epoch 8/10\n",
      "362/362 [==============================] - 0s 618us/step - loss: 0.5751 - mae: 0.5474 - val_loss: 0.5717 - val_mae: 0.5391\n",
      "Epoch 9/10\n",
      "362/362 [==============================] - 0s 610us/step - loss: 0.5576 - mae: 0.5384 - val_loss: 0.5702 - val_mae: 0.5396\n",
      "Epoch 10/10\n",
      "362/362 [==============================] - 0s 613us/step - loss: 0.5424 - mae: 0.5307 - val_loss: 0.5405 - val_mae: 0.5261\n"
     ]
    }
   ],
   "source": [
    "model_history = model_functional.fit(X_train, y_train, epochs=10,\n",
    "                                     validation_data=(X_valid, y_valid),\n",
    "                                    callbacks=[checkpoint_cb])"
   ]
  },
  {
   "cell_type": "markdown",
   "metadata": {},
   "source": [
    "# Get and use the best model"
   ]
  },
  {
   "cell_type": "code",
   "execution_count": 12,
   "metadata": {},
   "outputs": [],
   "source": [
    "del model_functional\n",
    "tf.keras.backend.clear_session()"
   ]
  },
  {
   "cell_type": "code",
   "execution_count": 13,
   "metadata": {},
   "outputs": [
    {
     "name": "stdout",
     "output_type": "stream",
     "text": [
      "129/129 [==============================] - 0s 364us/step - loss: 0.5603 - mean_absolute_error: 0.5295\n"
     ]
    }
   ],
   "source": [
    "model = tf.keras.models.load_model('Model_Func_Best.h5')\n",
    "mse_test = model.evaluate(X_test, y_test)"
   ]
  },
  {
   "cell_type": "markdown",
   "metadata": {},
   "source": [
    "# Create best model using early stopping"
   ]
  },
  {
   "cell_type": "code",
   "execution_count": 17,
   "metadata": {},
   "outputs": [],
   "source": [
    "tf.keras.backend.clear_session()\n",
    "\n",
    "input_ = tf.keras.layers.Input(shape=X_train.shape[1:])\n",
    "hidden1 = tf.keras.layers.Dense(30, activation='relu')(input_)\n",
    "hidden2 = tf.keras.layers.Dense(30, activation='relu')(hidden1)\n",
    "concat = tf.keras.layers.concatenate([input_, hidden2])\n",
    "output = tf.keras.layers.Dense(1)(concat)\n",
    "model_functional = tf.keras.models.Model(inputs=[input_], outputs=[output])\n",
    "\n",
    "model_functional.compile(loss='mse',\n",
    "                         optimizer=tf.keras.optimizers.SGD(lr=1e-3),\n",
    "                        metrics=['mae'])\n",
    "\n",
    "checkpoint_cb = tf.keras.callbacks.ModelCheckpoint('Early_Stop_Model.h5', save_best_only=True)"
   ]
  },
  {
   "cell_type": "code",
   "execution_count": 19,
   "metadata": {},
   "outputs": [],
   "source": [
    "early_stopping_cb = tf.keras.callbacks.EarlyStopping(patience=10, restore_best_weights=True)"
   ]
  },
  {
   "cell_type": "code",
   "execution_count": 20,
   "metadata": {},
   "outputs": [
    {
     "name": "stdout",
     "output_type": "stream",
     "text": [
      "Epoch 1/10\n",
      "362/362 [==============================] - 0s 805us/step - loss: 1.8534 - mae: 0.9494 - val_loss: 0.8408 - val_mae: 0.6768\n",
      "Epoch 2/10\n",
      "362/362 [==============================] - 0s 635us/step - loss: 0.7894 - mae: 0.6552 - val_loss: 0.7520 - val_mae: 0.6382\n",
      "Epoch 3/10\n",
      "362/362 [==============================] - 0s 643us/step - loss: 0.7213 - mae: 0.6260 - val_loss: 0.6971 - val_mae: 0.6132\n",
      "Epoch 4/10\n",
      "362/362 [==============================] - 0s 631us/step - loss: 0.6725 - mae: 0.6028 - val_loss: 0.6572 - val_mae: 0.5922\n",
      "Epoch 5/10\n",
      "362/362 [==============================] - 0s 635us/step - loss: 0.6359 - mae: 0.5846 - val_loss: 0.6291 - val_mae: 0.5777\n",
      "Epoch 6/10\n",
      "362/362 [==============================] - 0s 634us/step - loss: 0.6082 - mae: 0.5704 - val_loss: 0.5977 - val_mae: 0.5650\n",
      "Epoch 7/10\n",
      "362/362 [==============================] - 0s 633us/step - loss: 0.5825 - mae: 0.5590 - val_loss: 0.5765 - val_mae: 0.5488\n",
      "Epoch 8/10\n",
      "362/362 [==============================] - 0s 614us/step - loss: 0.5642 - mae: 0.5484 - val_loss: 0.5587 - val_mae: 0.5402\n",
      "Epoch 9/10\n",
      "362/362 [==============================] - 0s 634us/step - loss: 0.5484 - mae: 0.5406 - val_loss: 0.5469 - val_mae: 0.5372\n",
      "Epoch 10/10\n",
      "362/362 [==============================] - 0s 627us/step - loss: 0.5348 - mae: 0.5336 - val_loss: 0.5319 - val_mae: 0.5294\n"
     ]
    }
   ],
   "source": [
    "model_history = model_functional.fit(X_train, y_train, epochs=10,\n",
    "                                     validation_data=(X_valid, y_valid),\n",
    "                                    callbacks=[checkpoint_cb, early_stopping_cb])"
   ]
  },
  {
   "cell_type": "code",
   "execution_count": 21,
   "metadata": {},
   "outputs": [
    {
     "name": "stdout",
     "output_type": "stream",
     "text": [
      "129/129 [==============================] - 0s 411us/step - loss: 0.5473 - mean_absolute_error: 0.5318\n"
     ]
    }
   ],
   "source": [
    "model = tf.keras.models.load_model('Early_Stop_Model.h5')\n",
    "mse_test = model.evaluate(X_test, y_test)"
   ]
  },
  {
   "cell_type": "code",
   "execution_count": null,
   "metadata": {},
   "outputs": [],
   "source": []
  }
 ],
 "metadata": {
  "kernelspec": {
   "display_name": "env_ml_dl",
   "language": "python",
   "name": "env_ml_dl"
  },
  "language_info": {
   "codemirror_mode": {
    "name": "ipython",
    "version": 3
   },
   "file_extension": ".py",
   "mimetype": "text/x-python",
   "name": "python",
   "nbconvert_exporter": "python",
   "pygments_lexer": "ipython3",
   "version": "3.8.5"
  }
 },
 "nbformat": 4,
 "nbformat_minor": 4
}
