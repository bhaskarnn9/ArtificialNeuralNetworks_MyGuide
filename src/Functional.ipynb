{
 "cells": [
  {
   "cell_type": "markdown",
   "metadata": {},
   "source": [
    "## Complex NN Architecture using Functional API"
   ]
  },
  {
   "cell_type": "code",
   "execution_count": 1,
   "metadata": {},
   "outputs": [
    {
     "name": "stdout",
     "output_type": "stream",
     "text": [
      "['MedInc', 'HouseAge', 'AveRooms', 'AveBedrms', 'Population', 'AveOccup', 'Latitude', 'Longitude']\n"
     ]
    }
   ],
   "source": [
    "import warnings\n",
    "warnings.filterwarnings('ignore', category=FutureWarning)\n",
    "import pandas as pd\n",
    "import numpy as np\n",
    "import matplotlib.pyplot as plt\n",
    "import tensorflow as tf\n",
    "# %matplotlib inline\n",
    "\n",
    "from sklearn.datasets import fetch_california_housing\n",
    "housing = fetch_california_housing()\n",
    "\n",
    "print(housing.feature_names)\n",
    "\n",
    "from sklearn.model_selection import train_test_split\n",
    "X_train_full, X_test, y_train_full, y_test = train_test_split(housing.data, housing.target, test_size = 0.2, random_state = 42)\n",
    "X_train, X_valid, y_train, y_valid = train_test_split(X_train_full, y_train_full, test_size = 0.3, random_state=42)\n",
    "\n",
    "\n",
    "from sklearn.preprocessing import StandardScaler\n",
    "scaler = StandardScaler()\n",
    "X_train = scaler.fit_transform(X_train)\n",
    "X_valid = scaler.transform(X_valid)\n",
    "X_test = scaler.transform(X_test)\n",
    "\n",
    "np.random.seed(42)\n",
    "tf.random.set_seed(42)"
   ]
  },
  {
   "cell_type": "code",
   "execution_count": 2,
   "metadata": {},
   "outputs": [],
   "source": [
    "## clears previous keras sessaions (if any)\n",
    "tf.keras.backend.clear_session()"
   ]
  },
  {
   "cell_type": "markdown",
   "metadata": {},
   "source": [
    "####  The difference between Sequnetial and Functional can be depicted in the image below\n",
    "<img src='Functional_API.png'>"
   ]
  },
  {
   "cell_type": "markdown",
   "metadata": {},
   "source": [
    "#### Create the model architecture"
   ]
  },
  {
   "cell_type": "markdown",
   "metadata": {},
   "source": [
    "##### 2. Functional APIs of Keras"
   ]
  },
  {
   "cell_type": "code",
   "execution_count": 3,
   "metadata": {},
   "outputs": [],
   "source": [
    "input_ = tf.keras.layers.Input(shape=X_train.shape[1:])\n",
    "hidden1 = tf.keras.layers.Dense(30, activation='relu')(input_)\n",
    "hidden2 = tf.keras.layers.Dense(30, activation='relu')(hidden1)\n",
    "concat = tf.keras.layers.concatenate([input_, hidden2])\n",
    "output = tf.keras.layers.Dense(1)(concat)\n",
    "model_functional = tf.keras.models.Model(inputs=[input_], outputs=[output])"
   ]
  },
  {
   "cell_type": "code",
   "execution_count": 4,
   "metadata": {},
   "outputs": [
    {
     "name": "stdout",
     "output_type": "stream",
     "text": [
      "Model: \"functional_1\"\n",
      "__________________________________________________________________________________________________\n",
      "Layer (type)                    Output Shape         Param #     Connected to                     \n",
      "==================================================================================================\n",
      "input_1 (InputLayer)            [(None, 8)]          0                                            \n",
      "__________________________________________________________________________________________________\n",
      "dense (Dense)                   (None, 30)           270         input_1[0][0]                    \n",
      "__________________________________________________________________________________________________\n",
      "dense_1 (Dense)                 (None, 30)           930         dense[0][0]                      \n",
      "__________________________________________________________________________________________________\n",
      "concatenate (Concatenate)       (None, 38)           0           input_1[0][0]                    \n",
      "                                                                 dense_1[0][0]                    \n",
      "__________________________________________________________________________________________________\n",
      "dense_2 (Dense)                 (None, 1)            39          concatenate[0][0]                \n",
      "==================================================================================================\n",
      "Total params: 1,239\n",
      "Trainable params: 1,239\n",
      "Non-trainable params: 0\n",
      "__________________________________________________________________________________________________\n"
     ]
    }
   ],
   "source": [
    "model_functional.summary()"
   ]
  },
  {
   "cell_type": "code",
   "execution_count": 5,
   "metadata": {},
   "outputs": [
    {
     "data": {
      "image/png": "[encoded data removed]",
      "text/plain": [
       "<IPython.core.display.Image object>"
      ]
     },
     "execution_count": 5,
     "metadata": {},
     "output_type": "execute_result"
    }
   ],
   "source": [
    "import pydot\n",
    "tf.keras.utils.plot_model(model_functional)"
   ]
  },
  {
   "cell_type": "code",
   "execution_count": 6,
   "metadata": {},
   "outputs": [],
   "source": [
    "model_functional.compile(loss='mse',\n",
    "                         optimizer=tf.keras.optimizers.SGD(lr=1e-3),\n",
    "                        metrics=['mae'])"
   ]
  },
  {
   "cell_type": "code",
   "execution_count": 7,
   "metadata": {},
   "outputs": [
    {
     "data": {
      "text/plain": [
       "(8, 30)"
      ]
     },
     "execution_count": 7,
     "metadata": {},
     "output_type": "execute_result"
    }
   ],
   "source": [
    "weights, biases = model_functional.layers[1].get_weights()\n",
    "weights.shape"
   ]
  },
  {
   "cell_type": "code",
   "execution_count": 8,
   "metadata": {},
   "outputs": [
    {
     "data": {
      "text/plain": [
       "(30,)"
      ]
     },
     "execution_count": 8,
     "metadata": {},
     "output_type": "execute_result"
    }
   ],
   "source": [
    "biases.shape"
   ]
  },
  {
   "cell_type": "code",
   "execution_count": 9,
   "metadata": {},
   "outputs": [
    {
     "name": "stdout",
     "output_type": "stream",
     "text": [
      "Epoch 1/40\n",
      "362/362 [==============================] - 0s 888us/step - loss: 1.2605 - mae: 0.7982 - val_loss: 0.7210 - val_mae: 0.6104\n",
      "Epoch 2/40\n",
      "362/362 [==============================] - 0s 582us/step - loss: 0.6456 - mae: 0.5819 - val_loss: 0.6469 - val_mae: 0.5727\n",
      "Epoch 3/40\n",
      "362/362 [==============================] - 0s 591us/step - loss: 0.6041 - mae: 0.5605 - val_loss: 0.6127 - val_mae: 0.5564\n",
      "Epoch 4/40\n",
      "362/362 [==============================] - 0s 590us/step - loss: 0.5759 - mae: 0.5465 - val_loss: 0.5814 - val_mae: 0.5418\n",
      "Epoch 5/40\n",
      "362/362 [==============================] - 0s 587us/step - loss: 0.5538 - mae: 0.5349 - val_loss: 0.5646 - val_mae: 0.5332\n",
      "Epoch 6/40\n",
      "362/362 [==============================] - 0s 593us/step - loss: 0.5369 - mae: 0.5259 - val_loss: 0.5500 - val_mae: 0.5272\n",
      "Epoch 7/40\n",
      "362/362 [==============================] - 0s 579us/step - loss: 0.5206 - mae: 0.5189 - val_loss: 0.5288 - val_mae: 0.5141\n",
      "Epoch 8/40\n",
      "362/362 [==============================] - 0s 575us/step - loss: 0.5084 - mae: 0.5113 - val_loss: 0.5165 - val_mae: 0.5083\n",
      "Epoch 9/40\n",
      "362/362 [==============================] - 0s 587us/step - loss: 0.4976 - mae: 0.5060 - val_loss: 0.5107 - val_mae: 0.5067\n",
      "Epoch 10/40\n",
      "362/362 [==============================] - 0s 592us/step - loss: 0.4873 - mae: 0.5003 - val_loss: 0.4939 - val_mae: 0.5002\n",
      "Epoch 11/40\n",
      "362/362 [==============================] - 0s 637us/step - loss: 0.4787 - mae: 0.4957 - val_loss: 0.4883 - val_mae: 0.4989\n",
      "Epoch 12/40\n",
      "362/362 [==============================] - 0s 670us/step - loss: 0.4710 - mae: 0.4922 - val_loss: 0.4788 - val_mae: 0.4913\n",
      "Epoch 13/40\n",
      "362/362 [==============================] - 0s 745us/step - loss: 0.4638 - mae: 0.4882 - val_loss: 0.4719 - val_mae: 0.4869\n",
      "Epoch 14/40\n",
      "362/362 [==============================] - 0s 747us/step - loss: 0.4577 - mae: 0.4847 - val_loss: 0.4650 - val_mae: 0.4829\n",
      "Epoch 15/40\n",
      "362/362 [==============================] - 0s 641us/step - loss: 0.4521 - mae: 0.4808 - val_loss: 0.4560 - val_mae: 0.4815\n",
      "Epoch 16/40\n",
      "362/362 [==============================] - 0s 612us/step - loss: 0.4472 - mae: 0.4785 - val_loss: 0.4524 - val_mae: 0.4791\n",
      "Epoch 17/40\n",
      "362/362 [==============================] - 0s 603us/step - loss: 0.4424 - mae: 0.4757 - val_loss: 0.4462 - val_mae: 0.4779\n",
      "Epoch 18/40\n",
      "362/362 [==============================] - 0s 641us/step - loss: 0.4384 - mae: 0.4738 - val_loss: 0.4391 - val_mae: 0.4724\n",
      "Epoch 19/40\n",
      "362/362 [==============================] - 0s 673us/step - loss: 0.4346 - mae: 0.4711 - val_loss: 0.4360 - val_mae: 0.4731\n",
      "Epoch 20/40\n",
      "362/362 [==============================] - 0s 612us/step - loss: 0.4315 - mae: 0.4700 - val_loss: 0.4350 - val_mae: 0.4706\n",
      "Epoch 21/40\n",
      "362/362 [==============================] - 0s 600us/step - loss: 0.4276 - mae: 0.4674 - val_loss: 0.4294 - val_mae: 0.4682\n",
      "Epoch 22/40\n",
      "362/362 [==============================] - 0s 593us/step - loss: 0.4250 - mae: 0.4656 - val_loss: 0.4263 - val_mae: 0.4673\n",
      "Epoch 23/40\n",
      "362/362 [==============================] - 0s 608us/step - loss: 0.4223 - mae: 0.4640 - val_loss: 0.4264 - val_mae: 0.4672\n",
      "Epoch 24/40\n",
      "362/362 [==============================] - 0s 682us/step - loss: 0.4195 - mae: 0.4624 - val_loss: 0.4219 - val_mae: 0.4622\n",
      "Epoch 25/40\n",
      "362/362 [==============================] - 0s 664us/step - loss: 0.4167 - mae: 0.4603 - val_loss: 0.4182 - val_mae: 0.4624\n",
      "Epoch 26/40\n",
      "362/362 [==============================] - 0s 608us/step - loss: 0.4144 - mae: 0.4596 - val_loss: 0.4144 - val_mae: 0.4575\n",
      "Epoch 27/40\n",
      "362/362 [==============================] - 0s 600us/step - loss: 0.4121 - mae: 0.4578 - val_loss: 0.4113 - val_mae: 0.4560\n",
      "Epoch 28/40\n",
      "362/362 [==============================] - 0s 663us/step - loss: 0.4098 - mae: 0.4562 - val_loss: 0.4087 - val_mae: 0.4563\n",
      "Epoch 29/40\n",
      "362/362 [==============================] - 0s 659us/step - loss: 0.4076 - mae: 0.4552 - val_loss: 0.4095 - val_mae: 0.4572\n",
      "Epoch 30/40\n",
      "362/362 [==============================] - 0s 611us/step - loss: 0.4054 - mae: 0.4537 - val_loss: 0.4122 - val_mae: 0.4580\n",
      "Epoch 31/40\n",
      "362/362 [==============================] - 0s 702us/step - loss: 0.4034 - mae: 0.4523 - val_loss: 0.4049 - val_mae: 0.4544\n",
      "Epoch 32/40\n",
      "362/362 [==============================] - 0s 641us/step - loss: 0.4016 - mae: 0.4516 - val_loss: 0.4030 - val_mae: 0.4521\n",
      "Epoch 33/40\n",
      "362/362 [==============================] - 0s 642us/step - loss: 0.3998 - mae: 0.4504 - val_loss: 0.3992 - val_mae: 0.4495\n",
      "Epoch 34/40\n",
      "362/362 [==============================] - 0s 684us/step - loss: 0.3981 - mae: 0.4484 - val_loss: 0.3981 - val_mae: 0.4510\n",
      "Epoch 35/40\n",
      "362/362 [==============================] - 0s 691us/step - loss: 0.3964 - mae: 0.4481 - val_loss: 0.3983 - val_mae: 0.4493\n",
      "Epoch 36/40\n",
      "362/362 [==============================] - 0s 754us/step - loss: 0.3945 - mae: 0.4468 - val_loss: 0.3987 - val_mae: 0.4515\n",
      "Epoch 37/40\n",
      "362/362 [==============================] - 0s 795us/step - loss: 0.3931 - mae: 0.4463 - val_loss: 0.3913 - val_mae: 0.4436\n",
      "Epoch 38/40\n",
      "362/362 [==============================] - 0s 749us/step - loss: 0.3916 - mae: 0.4445 - val_loss: 0.3948 - val_mae: 0.4470\n",
      "Epoch 39/40\n",
      "362/362 [==============================] - 0s 798us/step - loss: 0.3901 - mae: 0.4445 - val_loss: 0.3944 - val_mae: 0.4441\n",
      "Epoch 40/40\n",
      "362/362 [==============================] - 0s 875us/step - loss: 0.3886 - mae: 0.4432 - val_loss: 0.3878 - val_mae: 0.4409\n"
     ]
    }
   ],
   "source": [
    "model_history = model_functional.fit(X_train, y_train, epochs=40,\n",
    "                                     validation_data=(X_valid, y_valid))"
   ]
  },
  {
   "cell_type": "code",
   "execution_count": 10,
   "metadata": {},
   "outputs": [
    {
     "name": "stdout",
     "output_type": "stream",
     "text": [
      "129/129 [==============================] - 0s 700us/step - loss: 0.4021 - mae: 0.4493\n"
     ]
    }
   ],
   "source": [
    "mae_test = model_functional.evaluate(X_test, y_test)"
   ]
  },
  {
   "cell_type": "code",
   "execution_count": 11,
   "metadata": {},
   "outputs": [
    {
     "data": {
      "text/plain": [
       "{'loss': [1.2604637145996094,\n",
       "  0.6456487774848938,\n",
       "  0.6041222810745239,\n",
       "  0.5758933424949646,\n",
       "  0.5537684559822083,\n",
       "  0.5368854999542236,\n",
       "  0.5206161737442017,\n",
       "  0.5084012150764465,\n",
       "  0.49755191802978516,\n",
       "  0.48730671405792236,\n",
       "  0.4787062108516693,\n",
       "  0.4710164964199066,\n",
       "  0.4637923240661621,\n",
       "  0.45768386125564575,\n",
       "  0.4521256983280182,\n",
       "  0.44717833399772644,\n",
       "  0.4424114227294922,\n",
       "  0.43842458724975586,\n",
       "  0.4346226155757904,\n",
       "  0.43152445554733276,\n",
       "  0.4275631010532379,\n",
       "  0.4249744713306427,\n",
       "  0.4222968816757202,\n",
       "  0.419508695602417,\n",
       "  0.41673076152801514,\n",
       "  0.4144132733345032,\n",
       "  0.41206294298171997,\n",
       "  0.40979382395744324,\n",
       "  0.40761783719062805,\n",
       "  0.4053756594657898,\n",
       "  0.403368204832077,\n",
       "  0.40155014395713806,\n",
       "  0.3998430669307709,\n",
       "  0.39808592200279236,\n",
       "  0.3963729739189148,\n",
       "  0.3944888710975647,\n",
       "  0.3930697441101074,\n",
       "  0.39156320691108704,\n",
       "  0.39010849595069885,\n",
       "  0.38855642080307007],\n",
       " 'mae': [0.7981808185577393,\n",
       "  0.5819327235221863,\n",
       "  0.5604757070541382,\n",
       "  0.5465379357337952,\n",
       "  0.5348535180091858,\n",
       "  0.5259302258491516,\n",
       "  0.5189199447631836,\n",
       "  0.5112745761871338,\n",
       "  0.5059900283813477,\n",
       "  0.5002613067626953,\n",
       "  0.4957156181335449,\n",
       "  0.49216899275779724,\n",
       "  0.48817530274391174,\n",
       "  0.4847140610218048,\n",
       "  0.4808349907398224,\n",
       "  0.47845029830932617,\n",
       "  0.4756760597229004,\n",
       "  0.47378167510032654,\n",
       "  0.4711449444293976,\n",
       "  0.4700165390968323,\n",
       "  0.46742165088653564,\n",
       "  0.46555331349372864,\n",
       "  0.4639531970024109,\n",
       "  0.46244826912879944,\n",
       "  0.46028944849967957,\n",
       "  0.45961663126945496,\n",
       "  0.4578106105327606,\n",
       "  0.45617222785949707,\n",
       "  0.4551616311073303,\n",
       "  0.4536624252796173,\n",
       "  0.45227524638175964,\n",
       "  0.45162394642829895,\n",
       "  0.4504397213459015,\n",
       "  0.44835516810417175,\n",
       "  0.44805794954299927,\n",
       "  0.4467862546443939,\n",
       "  0.446302205324173,\n",
       "  0.44452041387557983,\n",
       "  0.44451454281806946,\n",
       "  0.4431743323802948],\n",
       " 'val_loss': [0.7210107445716858,\n",
       "  0.646906316280365,\n",
       "  0.612723708152771,\n",
       "  0.5813812017440796,\n",
       "  0.5646326541900635,\n",
       "  0.5500196814537048,\n",
       "  0.5287626385688782,\n",
       "  0.5164746046066284,\n",
       "  0.5106803774833679,\n",
       "  0.49394848942756653,\n",
       "  0.48832106590270996,\n",
       "  0.4787667691707611,\n",
       "  0.47189199924468994,\n",
       "  0.4650198817253113,\n",
       "  0.4560352563858032,\n",
       "  0.4524194002151489,\n",
       "  0.4462219774723053,\n",
       "  0.4390636086463928,\n",
       "  0.4359581768512726,\n",
       "  0.4349697530269623,\n",
       "  0.42938318848609924,\n",
       "  0.42626652121543884,\n",
       "  0.42639875411987305,\n",
       "  0.42193299531936646,\n",
       "  0.4182131290435791,\n",
       "  0.41441619396209717,\n",
       "  0.4112842082977295,\n",
       "  0.4087074100971222,\n",
       "  0.4095326066017151,\n",
       "  0.4122115969657898,\n",
       "  0.4048701524734497,\n",
       "  0.4030062258243561,\n",
       "  0.39923614263534546,\n",
       "  0.3980666697025299,\n",
       "  0.3982841968536377,\n",
       "  0.3987126648426056,\n",
       "  0.3912990987300873,\n",
       "  0.39484360814094543,\n",
       "  0.3943789303302765,\n",
       "  0.38777977228164673],\n",
       " 'val_mae': [0.6104168891906738,\n",
       "  0.5727076530456543,\n",
       "  0.5564371943473816,\n",
       "  0.5418499708175659,\n",
       "  0.5332165956497192,\n",
       "  0.5272414684295654,\n",
       "  0.514098584651947,\n",
       "  0.5083239674568176,\n",
       "  0.506687581539154,\n",
       "  0.5002133250236511,\n",
       "  0.49891039729118347,\n",
       "  0.49125513434410095,\n",
       "  0.4868847131729126,\n",
       "  0.48293375968933105,\n",
       "  0.4815180003643036,\n",
       "  0.4791014790534973,\n",
       "  0.47792568802833557,\n",
       "  0.4723723828792572,\n",
       "  0.4730689823627472,\n",
       "  0.4706067740917206,\n",
       "  0.46816447377204895,\n",
       "  0.4673347771167755,\n",
       "  0.46717509627342224,\n",
       "  0.46219709515571594,\n",
       "  0.46240144968032837,\n",
       "  0.45751115679740906,\n",
       "  0.456027090549469,\n",
       "  0.4563208520412445,\n",
       "  0.45724260807037354,\n",
       "  0.4580059349536896,\n",
       "  0.4544409513473511,\n",
       "  0.4521368145942688,\n",
       "  0.44949084520339966,\n",
       "  0.45097771286964417,\n",
       "  0.44932061433792114,\n",
       "  0.45147526264190674,\n",
       "  0.4436118006706238,\n",
       "  0.44703271985054016,\n",
       "  0.4441451132297516,\n",
       "  0.4408853054046631]}"
      ]
     },
     "execution_count": 11,
     "metadata": {},
     "output_type": "execute_result"
    }
   ],
   "source": [
    "model_history.history"
   ]
  },
  {
   "cell_type": "code",
   "execution_count": 15,
   "metadata": {},
   "outputs": [
    {
     "data": {
      "image/png": "[encoded data removed]",
      "text/plain": [
       "<Figure size 1440x576 with 1 Axes>"
      ]
     },
     "metadata": {},
     "output_type": "display_data"
    }
   ],
   "source": [
    "dfp = pd.DataFrame(model_history.history).plot(figsize=(20,8))\n",
    "plt.grid(True)\n",
    "plt.gca().set_ylim(0, 1)\n",
    "\n",
    "plt.show()"
   ]
  },
  {
   "cell_type": "markdown",
   "metadata": {},
   "source": [
    "As we can see the loss function can be further reduced"
   ]
  },
  {
   "cell_type": "code",
   "execution_count": 16,
   "metadata": {},
   "outputs": [
    {
     "name": "stdout",
     "output_type": "stream",
     "text": [
      "Epoch 1/40\n",
      "362/362 [==============================] - 0s 653us/step - loss: 0.3872 - mae: 0.4418 - val_loss: 0.3869 - val_mae: 0.4426\n",
      "Epoch 2/40\n",
      "362/362 [==============================] - 0s 585us/step - loss: 0.3857 - mae: 0.4416 - val_loss: 0.3853 - val_mae: 0.4399\n",
      "Epoch 3/40\n",
      "362/362 [==============================] - 0s 597us/step - loss: 0.3846 - mae: 0.4408 - val_loss: 0.3873 - val_mae: 0.4397\n",
      "Epoch 4/40\n",
      "362/362 [==============================] - 0s 591us/step - loss: 0.3830 - mae: 0.4392 - val_loss: 0.3834 - val_mae: 0.4380\n",
      "Epoch 5/40\n",
      "362/362 [==============================] - 0s 597us/step - loss: 0.3817 - mae: 0.4388 - val_loss: 0.3838 - val_mae: 0.4391\n",
      "Epoch 6/40\n",
      "362/362 [==============================] - 0s 614us/step - loss: 0.3809 - mae: 0.4376 - val_loss: 0.3834 - val_mae: 0.4401\n",
      "Epoch 7/40\n",
      "362/362 [==============================] - 0s 607us/step - loss: 0.3790 - mae: 0.4373 - val_loss: 0.3784 - val_mae: 0.4337\n",
      "Epoch 8/40\n",
      "362/362 [==============================] - 0s 607us/step - loss: 0.3780 - mae: 0.4360 - val_loss: 0.3773 - val_mae: 0.4349\n",
      "Epoch 9/40\n",
      "362/362 [==============================] - 0s 589us/step - loss: 0.3769 - mae: 0.4355 - val_loss: 0.3779 - val_mae: 0.4366\n",
      "Epoch 10/40\n",
      "362/362 [==============================] - 0s 602us/step - loss: 0.3755 - mae: 0.4344 - val_loss: 0.3797 - val_mae: 0.4382\n",
      "Epoch 11/40\n",
      "362/362 [==============================] - 0s 587us/step - loss: 0.3743 - mae: 0.4336 - val_loss: 0.3772 - val_mae: 0.4379\n",
      "Epoch 12/40\n",
      "362/362 [==============================] - 0s 597us/step - loss: 0.3736 - mae: 0.4337 - val_loss: 0.3727 - val_mae: 0.4317\n",
      "Epoch 13/40\n",
      "362/362 [==============================] - 0s 600us/step - loss: 0.3723 - mae: 0.4326 - val_loss: 0.3774 - val_mae: 0.4342\n",
      "Epoch 14/40\n",
      "362/362 [==============================] - 0s 606us/step - loss: 0.3712 - mae: 0.4318 - val_loss: 0.3723 - val_mae: 0.4321\n",
      "Epoch 15/40\n",
      "362/362 [==============================] - 0s 613us/step - loss: 0.3703 - mae: 0.4310 - val_loss: 0.3714 - val_mae: 0.4325\n",
      "Epoch 16/40\n",
      "362/362 [==============================] - 0s 610us/step - loss: 0.3691 - mae: 0.4302 - val_loss: 0.3713 - val_mae: 0.4317\n",
      "Epoch 17/40\n",
      "362/362 [==============================] - 0s 607us/step - loss: 0.3678 - mae: 0.4295 - val_loss: 0.3707 - val_mae: 0.4322\n",
      "Epoch 18/40\n",
      "362/362 [==============================] - 0s 593us/step - loss: 0.3671 - mae: 0.4290 - val_loss: 0.3678 - val_mae: 0.4281\n",
      "Epoch 19/40\n",
      "362/362 [==============================] - 0s 584us/step - loss: 0.3659 - mae: 0.4281 - val_loss: 0.3687 - val_mae: 0.4317\n",
      "Epoch 20/40\n",
      "362/362 [==============================] - 0s 596us/step - loss: 0.3650 - mae: 0.4278 - val_loss: 0.3684 - val_mae: 0.4304\n",
      "Epoch 21/40\n",
      "362/362 [==============================] - 0s 595us/step - loss: 0.3633 - mae: 0.4266 - val_loss: 0.3698 - val_mae: 0.4309\n",
      "Epoch 22/40\n",
      "362/362 [==============================] - 0s 604us/step - loss: 0.3628 - mae: 0.4262 - val_loss: 0.3654 - val_mae: 0.4282\n",
      "Epoch 23/40\n",
      "362/362 [==============================] - 0s 589us/step - loss: 0.3619 - mae: 0.4253 - val_loss: 0.3697 - val_mae: 0.4305\n",
      "Epoch 24/40\n",
      "362/362 [==============================] - 0s 600us/step - loss: 0.3612 - mae: 0.4247 - val_loss: 0.3624 - val_mae: 0.4252\n",
      "Epoch 25/40\n",
      "362/362 [==============================] - 0s 603us/step - loss: 0.3600 - mae: 0.4240 - val_loss: 0.3628 - val_mae: 0.4259\n",
      "Epoch 26/40\n",
      "362/362 [==============================] - 0s 597us/step - loss: 0.3592 - mae: 0.4237 - val_loss: 0.3592 - val_mae: 0.4222\n",
      "Epoch 27/40\n",
      "362/362 [==============================] - 0s 598us/step - loss: 0.3583 - mae: 0.4230 - val_loss: 0.3589 - val_mae: 0.4233\n",
      "Epoch 28/40\n",
      "362/362 [==============================] - 0s 596us/step - loss: 0.3574 - mae: 0.4224 - val_loss: 0.3585 - val_mae: 0.4231\n",
      "Epoch 29/40\n",
      "362/362 [==============================] - 0s 603us/step - loss: 0.3565 - mae: 0.4216 - val_loss: 0.3609 - val_mae: 0.4250\n",
      "Epoch 30/40\n",
      "362/362 [==============================] - 0s 606us/step - loss: 0.3554 - mae: 0.4208 - val_loss: 0.3650 - val_mae: 0.4274\n",
      "Epoch 31/40\n",
      "362/362 [==============================] - 0s 604us/step - loss: 0.3545 - mae: 0.4203 - val_loss: 0.3587 - val_mae: 0.4244\n",
      "Epoch 32/40\n",
      "362/362 [==============================] - 0s 601us/step - loss: 0.3538 - mae: 0.4201 - val_loss: 0.3558 - val_mae: 0.4213\n",
      "Epoch 33/40\n",
      "362/362 [==============================] - 0s 597us/step - loss: 0.3534 - mae: 0.4196 - val_loss: 0.3550 - val_mae: 0.4204\n",
      "Epoch 34/40\n",
      "362/362 [==============================] - 0s 591us/step - loss: 0.3526 - mae: 0.4183 - val_loss: 0.3542 - val_mae: 0.4218\n",
      "Epoch 35/40\n",
      "362/362 [==============================] - 0s 602us/step - loss: 0.3517 - mae: 0.4183 - val_loss: 0.3554 - val_mae: 0.4214\n",
      "Epoch 36/40\n",
      "362/362 [==============================] - 0s 595us/step - loss: 0.3508 - mae: 0.4176 - val_loss: 0.3574 - val_mae: 0.4245\n",
      "Epoch 37/40\n",
      "362/362 [==============================] - 0s 599us/step - loss: 0.3503 - mae: 0.4177 - val_loss: 0.3513 - val_mae: 0.4167\n",
      "Epoch 38/40\n",
      "362/362 [==============================] - 0s 594us/step - loss: 0.3496 - mae: 0.4165 - val_loss: 0.3538 - val_mae: 0.4191\n",
      "Epoch 39/40\n",
      "362/362 [==============================] - 0s 588us/step - loss: 0.3491 - mae: 0.4167 - val_loss: 0.3531 - val_mae: 0.4173\n",
      "Epoch 40/40\n",
      "362/362 [==============================] - 0s 591us/step - loss: 0.3483 - mae: 0.4160 - val_loss: 0.3496 - val_mae: 0.4155\n",
      "129/129 [==============================] - 0s 649us/step - loss: 0.3629 - mae: 0.4211\n"
     ]
    }
   ],
   "source": [
    "model_history = model_functional.fit(X_train, y_train, epochs=40,\n",
    "                                     validation_data=(X_valid, y_valid))\n",
    "mae_test = model_functional.evaluate(X_test, y_test)"
   ]
  },
  {
   "cell_type": "code",
   "execution_count": 17,
   "metadata": {},
   "outputs": [
    {
     "data": {
      "image/png": "[encoded data removed]",
      "text/plain": [
       "<Figure size 1440x576 with 1 Axes>"
      ]
     },
     "metadata": {},
     "output_type": "display_data"
    }
   ],
   "source": [
    "dfp = pd.DataFrame(model_history.history).plot(figsize=(20,8))\n",
    "plt.grid(True)\n",
    "plt.gca().set_ylim(0, 1)\n",
    "\n",
    "plt.show()"
   ]
  },
  {
   "cell_type": "code",
   "execution_count": null,
   "metadata": {},
   "outputs": [],
   "source": []
  }
 ],
 "metadata": {
  "kernelspec": {
   "display_name": "env_ml_dl",
   "language": "python",
   "name": "env_ml_dl"
  },
  "language_info": {
   "codemirror_mode": {
    "name": "ipython",
    "version": 3
   },
   "file_extension": ".py",
   "mimetype": "text/x-python",
   "name": "python",
   "nbconvert_exporter": "python",
   "pygments_lexer": "ipython3",
   "version": "3.8.5"
  }
 },
 "nbformat": 4,
 "nbformat_minor": 4
}
